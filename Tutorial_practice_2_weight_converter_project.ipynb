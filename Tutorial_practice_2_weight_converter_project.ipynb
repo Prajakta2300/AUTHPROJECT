{
  "nbformat": 4,
  "nbformat_minor": 0,
  "metadata": {
    "colab": {
      "name": "Tutorial practice 2 weight converter project ",
      "provenance": [],
      "collapsed_sections": [],
      "authorship_tag": "ABX9TyOz8ObSe3T63l+OIMCROD+I",
      "include_colab_link": true
    },
    "kernelspec": {
      "name": "python3",
      "display_name": "Python 3"
    },
    "language_info": {
      "name": "python"
    }
  },
  "cells": [
    {
      "cell_type": "markdown",
      "metadata": {
        "id": "view-in-github",
        "colab_type": "text"
      },
      "source": [
        "<a href=\"https://colab.research.google.com/github/Prajakta2300/AUTHPROJECT/blob/master/Tutorial_practice_2_weight_converter_project.ipynb\" target=\"_parent\"><img src=\"https://colab.research.google.com/assets/colab-badge.svg\" alt=\"Open In Colab\"/></a>"
      ]
    },
    {
      "cell_type": "code",
      "metadata": {
        "colab": {
          "base_uri": "https://localhost:8080/"
        },
        "id": "oepOXIe_3Zzd",
        "outputId": "c50ef1b0-0960-4616-8acf-c484840e6ab8"
      },
      "source": [
        "weight=int(input('Your weight :'))\n",
        "unit=input('(L)lbs or (K)kg:')\n",
        "if unit.upper()==\"L\":\n",
        "  calculated=weight*0.45\n",
        "  print(f\"your weight{calculated}kg\")\n",
        "else:\n",
        "  calculated=weight/0.45\n",
        "  print(f\"your weight{calculated}pounds\")\n",
        "  \n",
        "\n",
        "\n"
      ],
      "execution_count": 9,
      "outputs": [
        {
          "output_type": "stream",
          "text": [
            "Your weight :60\n",
            "(L)lbs or (K)kg:k\n",
            "your weight133.33333333333334pounds\n"
          ],
          "name": "stdout"
        }
      ]
    }
  ]
}