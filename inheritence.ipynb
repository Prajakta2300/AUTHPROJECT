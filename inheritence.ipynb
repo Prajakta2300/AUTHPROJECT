{
  "nbformat": 4,
  "nbformat_minor": 0,
  "metadata": {
    "colab": {
      "name": "inheritence.ipynb",
      "provenance": [],
      "collapsed_sections": [],
      "authorship_tag": "ABX9TyMyossZv5QrgvxLE+0EQ2HO",
      "include_colab_link": true
    },
    "kernelspec": {
      "name": "python3",
      "display_name": "Python 3"
    },
    "language_info": {
      "name": "python"
    }
  },
  "cells": [
    {
      "cell_type": "markdown",
      "metadata": {
        "id": "view-in-github",
        "colab_type": "text"
      },
      "source": [
        "<a href=\"https://colab.research.google.com/github/Prajakta2300/AUTHPROJECT/blob/master/inheritence.ipynb\" target=\"_parent\"><img src=\"https://colab.research.google.com/assets/colab-badge.svg\" alt=\"Open In Colab\"/></a>"
      ]
    },
    {
      "cell_type": "code",
      "metadata": {
        "id": "QF8IEH1TP74b"
      },
      "source": [
        "class Parent1:\n",
        "  def str1(self,str1):\n",
        "    self.str1=str1\n",
        "  def show_str1(self):\n",
        "    return self.str1\n"
      ],
      "execution_count": 2,
      "outputs": []
    },
    {
      "cell_type": "code",
      "metadata": {
        "id": "hovTQbK2RO-d"
      },
      "source": [
        "class Parent2:\n",
        "  def str2(self,str2):\n",
        "    self.str2=str2\n",
        "  def show_str2(self):\n",
        "    return self.str2\n"
      ],
      "execution_count": 3,
      "outputs": []
    },
    {
      "cell_type": "code",
      "metadata": {
        "id": "k2RWe6gBR0RF"
      },
      "source": [
        "class Child(Parent1,Parent2):\n",
        "  def str3(self,str3): \n",
        "    self.str3=str3\n",
        "  def show_str3(self):\n",
        "    return self.str3\n"
      ],
      "execution_count": 6,
      "outputs": []
    },
    {
      "cell_type": "code",
      "metadata": {
        "colab": {
          "base_uri": "https://localhost:8080/",
          "height": 35
        },
        "id": "cJzN9Q2xSVH7",
        "outputId": "9e9b961d-882c-481e-b3a1-03b08a5f16fa"
      },
      "source": [
        "my_child=Child()\n",
        "my_child.str1(\"I am a first string\")\n",
        "my_child.str2(\"I am a second string\")\n",
        "my_child.str3(\"I am a child string\")\n",
        "my_child.show_str1()"
      ],
      "execution_count": 7,
      "outputs": [
        {
          "output_type": "execute_result",
          "data": {
            "application/vnd.google.colaboratory.intrinsic+json": {
              "type": "string"
            },
            "text/plain": [
              "'I am a first string'"
            ]
          },
          "metadata": {
            "tags": []
          },
          "execution_count": 7
        }
      ]
    },
    {
      "cell_type": "code",
      "metadata": {
        "colab": {
          "base_uri": "https://localhost:8080/",
          "height": 35
        },
        "id": "603-kccmUk39",
        "outputId": "b99d8146-1654-4a53-c1af-a9f0fb4c9a0e"
      },
      "source": [
        "my_child.show_str2()"
      ],
      "execution_count": 8,
      "outputs": [
        {
          "output_type": "execute_result",
          "data": {
            "application/vnd.google.colaboratory.intrinsic+json": {
              "type": "string"
            },
            "text/plain": [
              "'I am a second string'"
            ]
          },
          "metadata": {
            "tags": []
          },
          "execution_count": 8
        }
      ]
    },
    {
      "cell_type": "code",
      "metadata": {
        "colab": {
          "base_uri": "https://localhost:8080/",
          "height": 35
        },
        "id": "FMo1izXzUl0y",
        "outputId": "09e107a2-e069-431e-aa3a-cbd10770ad15"
      },
      "source": [
        "my_child.show_str3()"
      ],
      "execution_count": 9,
      "outputs": [
        {
          "output_type": "execute_result",
          "data": {
            "application/vnd.google.colaboratory.intrinsic+json": {
              "type": "string"
            },
            "text/plain": [
              "'I am a child string'"
            ]
          },
          "metadata": {
            "tags": []
          },
          "execution_count": 9
        }
      ]
    }
  ]
}