{
  "nbformat": 4,
  "nbformat_minor": 0,
  "metadata": {
    "colab": {
      "name": "Multilevel Inheritence.ipynb",
      "provenance": [],
      "collapsed_sections": [],
      "authorship_tag": "ABX9TyPVCKKY7O/THDgC8dyLfRl4",
      "include_colab_link": true
    },
    "kernelspec": {
      "name": "python3",
      "display_name": "Python 3"
    },
    "language_info": {
      "name": "python"
    }
  },
  "cells": [
    {
      "cell_type": "markdown",
      "metadata": {
        "id": "view-in-github",
        "colab_type": "text"
      },
      "source": [
        "<a href=\"https://colab.research.google.com/github/Prajakta2300/AUTHPROJECT/blob/master/Multilevel_Inheritence.ipynb\" target=\"_parent\"><img src=\"https://colab.research.google.com/assets/colab-badge.svg\" alt=\"Open In Colab\"/></a>"
      ]
    },
    {
      "cell_type": "code",
      "metadata": {
        "id": "OEJmdMEtXIqc"
      },
      "source": [
        "class Parent:\n",
        "  def get_name(self,name):\n",
        "    self.name=name\n",
        "  def show_name(self):\n",
        "    return self.name"
      ],
      "execution_count": 7,
      "outputs": []
    },
    {
      "cell_type": "code",
      "metadata": {
        "id": "9YFmBYckXdC2"
      },
      "source": [
        "class Child(Parent):\n",
        "  def get_age(self,age):\n",
        "    self.age=age\n",
        "  def show_age(self):\n",
        "   return self.age\n"
      ],
      "execution_count": 8,
      "outputs": []
    },
    {
      "cell_type": "code",
      "metadata": {
        "id": "0PdQX8QxXxhy"
      },
      "source": [
        "class GrandChild(Child):\n",
        "  def get_gender(self,gender):\n",
        "    self.gender=gender\n",
        "  def show_gender(self):\n",
        "     return self.gender"
      ],
      "execution_count": 9,
      "outputs": []
    },
    {
      "cell_type": "code",
      "metadata": {
        "id": "oG4lHzBeYSRN"
      },
      "source": [
        "gc=GrandChild()\n",
        "gc.get_name(\"PRAJAKTA\")\n",
        "gc.get_age(21)\n",
        "gc.get_gender(\"FEMALE\")"
      ],
      "execution_count": 10,
      "outputs": []
    },
    {
      "cell_type": "code",
      "metadata": {
        "colab": {
          "base_uri": "https://localhost:8080/",
          "height": 35
        },
        "id": "Bbcy8XPSZFGk",
        "outputId": "43975f6b-cabb-40bf-e9ca-bbebecf2e030"
      },
      "source": [
        "gc.show_name()"
      ],
      "execution_count": 11,
      "outputs": [
        {
          "output_type": "execute_result",
          "data": {
            "application/vnd.google.colaboratory.intrinsic+json": {
              "type": "string"
            },
            "text/plain": [
              "'PRAJAKTA'"
            ]
          },
          "metadata": {
            "tags": []
          },
          "execution_count": 11
        }
      ]
    },
    {
      "cell_type": "code",
      "metadata": {
        "colab": {
          "base_uri": "https://localhost:8080/"
        },
        "id": "Q3QVO6vuZKf0",
        "outputId": "f2b48e59-6925-452b-dc59-1722cd9102b2"
      },
      "source": [
        "gc.show_age()"
      ],
      "execution_count": 12,
      "outputs": [
        {
          "output_type": "execute_result",
          "data": {
            "text/plain": [
              "21"
            ]
          },
          "metadata": {
            "tags": []
          },
          "execution_count": 12
        }
      ]
    },
    {
      "cell_type": "code",
      "metadata": {
        "colab": {
          "base_uri": "https://localhost:8080/",
          "height": 35
        },
        "id": "pIgAxbbUZLIg",
        "outputId": "2976fbbb-d246-425a-b901-dc29f4c7261b"
      },
      "source": [
        "gc.show_gender()"
      ],
      "execution_count": 13,
      "outputs": [
        {
          "output_type": "execute_result",
          "data": {
            "application/vnd.google.colaboratory.intrinsic+json": {
              "type": "string"
            },
            "text/plain": [
              "'FEMALE'"
            ]
          },
          "metadata": {
            "tags": []
          },
          "execution_count": 13
        }
      ]
    }
  ]
}