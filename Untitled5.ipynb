{
  "nbformat": 4,
  "nbformat_minor": 0,
  "metadata": {
    "colab": {
      "name": "Untitled5.ipynb",
      "provenance": [],
      "collapsed_sections": [],
      "authorship_tag": "ABX9TyN6G2VCqwLM3iWgk4Hdadid",
      "include_colab_link": true
    },
    "kernelspec": {
      "name": "python3",
      "display_name": "Python 3"
    },
    "language_info": {
      "name": "python"
    }
  },
  "cells": [
    {
      "cell_type": "markdown",
      "metadata": {
        "id": "view-in-github",
        "colab_type": "text"
      },
      "source": [
        "<a href=\"https://colab.research.google.com/github/Prajakta2300/AUTHPROJECT/blob/master/Untitled5.ipynb\" target=\"_parent\"><img src=\"https://colab.research.google.com/assets/colab-badge.svg\" alt=\"Open In Colab\"/></a>"
      ]
    },
    {
      "cell_type": "code",
      "metadata": {
        "colab": {
          "base_uri": "https://localhost:8080/"
        },
        "id": "qEQxUe-PlFc7",
        "outputId": "3f9f63e2-04c6-43c0-8f26-9f0adf7a6453"
      },
      "source": [
        "class Vehicle:\n",
        "  def __init__(self,mileage,cost):\n",
        "    self.mileage=mileage\n",
        "    self.cost=cost\n",
        "  def show_vehicle_details(self):\n",
        "    print(\"The mileage of vehicle is\",self.mileage)\n",
        "    print(\"The cost of vehicle is\",self.cost)\n",
        "v1=Vehicle(200,50000) \n",
        "v1.show_vehicle_details()\n",
        "\n",
        "\n",
        "     "
      ],
      "execution_count": 5,
      "outputs": [
        {
          "output_type": "stream",
          "text": [
            "The mileage of vehicle is 200\n",
            "The cost of vehicle is 50000\n"
          ],
          "name": "stdout"
        }
      ]
    },
    {
      "cell_type": "code",
      "metadata": {
        "colab": {
          "base_uri": "https://localhost:8080/"
        },
        "id": "ZO8ez2sI0jAK",
        "outputId": "44c753e9-f436-47e8-90cf-ab8fba343282"
      },
      "source": [
        "class Car(Vehicle):\n",
        "  def show_car_details(self):\n",
        "    print(\"I am a car\")\n",
        "c1=Car(250,30000)\n",
        "c1.show_vehicle_details()"
      ],
      "execution_count": 6,
      "outputs": [
        {
          "output_type": "stream",
          "text": [
            "The mileage of vehicle is 250\n",
            "The cost of vehicle is 30000\n"
          ],
          "name": "stdout"
        }
      ]
    }
  ]
}